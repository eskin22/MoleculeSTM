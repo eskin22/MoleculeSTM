{
 "cells": [
  {
   "cell_type": "markdown",
   "id": "5692e778",
   "metadata": {},
   "source": [
    "# Demo for MoleculeSTM Downstream: Property Prediction\n",
    "\n",
    "## Load Packages"
   ]
  },
  {
   "cell_type": "code",
   "execution_count": 1,
   "id": "7d13d71d",
   "metadata": {},
   "outputs": [
    {
     "name": "stdout",
     "output_type": "stream",
     "text": [
      "[2023-08-30 12:23:17,997] [INFO] [real_accelerator.py:110:get_accelerator] Setting ds_accelerator to cuda (auto detect)\n"
     ]
    }
   ],
   "source": [
    "import warnings\n",
    "warnings.filterwarnings('ignore')\n",
    "\n",
    "import os\n",
    "import argparse\n",
    "import numpy as np\n",
    "import pandas as pd\n",
    "from tqdm import tqdm\n",
    "from sklearn.metrics import accuracy_score, average_precision_score, roc_auc_score, mean_absolute_error, mean_squared_error\n",
    "\n",
    "import torch\n",
    "import torch.nn as nn\n",
    "import torch.optim as optim\n",
    "from torch.utils.data import DataLoader as torch_DataLoader\n",
    "from torch_geometric.loader import DataLoader as pyg_DataLoader\n",
    "\n",
    "from MoleculeSTM.datasets import MoleculeNetSMILESDataset, MoleculeNetGraphDataset\n",
    "from MoleculeSTM.splitters import scaffold_split\n",
    "from MoleculeSTM.utils import get_num_task_and_type, get_molecule_repr_MoleculeSTM\n",
    "from MoleculeSTM.models.mega_molbart.mega_mol_bart import MegaMolBART\n",
    "from MoleculeSTM.models import GNN, GNN_graphpred"
   ]
  },
  {
   "cell_type": "markdown",
   "id": "c5ae9b29",
   "metadata": {},
   "source": [
    "## Setup Arguments"
   ]
  },
  {
   "cell_type": "code",
   "execution_count": 2,
   "id": "e579793f",
   "metadata": {},
   "outputs": [
    {
     "name": "stdout",
     "output_type": "stream",
     "text": [
      "arguments\t Namespace(batch_size=32, dataset='bace', dataspace_path='../data', device=0, epochs=5, eval_train=0, input_model_path='demo_checkpoints_SMILES/molecule_model.pth', lr=0.0001, lr_scale=1, megamolbart_input_dir='../data/pretrained_MegaMolBART/checkpoints', molecule_type='SMILES', num_workers=1, output_model_dir=None, schedule='cycle', seed=42, split='scaffold', training_mode='fine_tuning', verbose=1, vocab_path='../MoleculeSTM/bart_vocab.txt', warm_up_steps=10, weight_decay=0)\n"
     ]
    }
   ],
   "source": [
    "parser = argparse.ArgumentParser()\n",
    "parser.add_argument(\"--seed\", type=int, default=42)\n",
    "parser.add_argument(\"--device\", type=int, default=0)\n",
    "parser.add_argument(\"--training_mode\", type=str, default=\"fine_tuning\", choices=[\"fine_tuning\", \"linear_probing\"])\n",
    "parser.add_argument(\"--molecule_type\", type=str, default=\"SMILES\", choices=[\"SMILES\", \"Graph\"])\n",
    "\n",
    "########## for dataset and split ##########\n",
    "parser.add_argument(\"--dataspace_path\", type=str, default=\"../data\")\n",
    "parser.add_argument(\"--dataset\", type=str, default=\"bace\")\n",
    "parser.add_argument(\"--split\", type=str, default=\"scaffold\")\n",
    "\n",
    "########## for optimization ##########\n",
    "parser.add_argument(\"--batch_size\", type=int, default=32)\n",
    "parser.add_argument(\"--lr\", type=float, default=1e-4)\n",
    "parser.add_argument(\"--lr_scale\", type=float, default=1)\n",
    "parser.add_argument(\"--num_workers\", type=int, default=1)\n",
    "parser.add_argument(\"--epochs\", type=int, default=5)\n",
    "parser.add_argument(\"--weight_decay\", type=float, default=0)\n",
    "parser.add_argument(\"--schedule\", type=str, default=\"cycle\")\n",
    "parser.add_argument(\"--warm_up_steps\", type=int, default=10)\n",
    "\n",
    "########## for MegaMolBART ##########\n",
    "parser.add_argument(\"--megamolbart_input_dir\", type=str, default=\"../data/pretrained_MegaMolBART/checkpoints\", help=\"This is only for MegaMolBART.\")\n",
    "parser.add_argument(\"--vocab_path\", type=str, default=\"../MoleculeSTM/bart_vocab.txt\")\n",
    "\n",
    "########## for saver ##########\n",
    "parser.add_argument(\"--eval_train\", type=int, default=0)\n",
    "parser.add_argument(\"--verbose\", type=int, default=1)\n",
    "\n",
    "parser.add_argument(\"--input_model_path\", type=str, default=\"demo_checkpoints_SMILES/molecule_model.pth\")\n",
    "parser.add_argument(\"--output_model_dir\", type=str, default=None)\n",
    "\n",
    "args = parser.parse_args(\"\")\n",
    "print(\"arguments\\t\", args)"
   ]
  },
  {
   "cell_type": "markdown",
   "id": "fda8e87f",
   "metadata": {},
   "source": [
    "## Setup Seed"
   ]
  },
  {
   "cell_type": "code",
   "execution_count": 3,
   "id": "e440e4b6",
   "metadata": {},
   "outputs": [],
   "source": [
    "torch.manual_seed(args.seed)\n",
    "np.random.seed(args.seed)\n",
    "if torch.cuda.is_available():\n",
    "    torch.cuda.manual_seed_all(args.seed)\n",
    "device = torch.device(\"cuda:\" + str(args.device)) \\\n",
    "    if torch.cuda.is_available() else torch.device(\"cpu\")"
   ]
  },
  {
   "cell_type": "markdown",
   "id": "1bcb6df8",
   "metadata": {},
   "source": [
    "## Setup Dataset and Dataloader"
   ]
  },
  {
   "cell_type": "code",
   "execution_count": 4,
   "id": "465ef86d",
   "metadata": {},
   "outputs": [
    {
     "name": "stdout",
     "output_type": "stream",
     "text": [
      "1513 \t (1513, 1)\n"
     ]
    }
   ],
   "source": [
    "num_tasks, task_mode = get_num_task_and_type(args.dataset)\n",
    "dataset_folder = os.path.join(args.dataspace_path, \"MoleculeNet_data\", args.dataset)\n",
    "\n",
    "\n",
    "dataset = MoleculeNetSMILESDataset(dataset_folder)\n",
    "dataloader_class = torch_DataLoader\n",
    "use_pyg_dataset = False\n",
    "\n",
    "smiles_list = pd.read_csv(\n",
    "    dataset_folder + \"/processed/smiles.csv\", header=None)[0].tolist()\n",
    "train_dataset, valid_dataset, test_dataset = scaffold_split(\n",
    "    dataset, smiles_list, null_value=0, frac_train=0.8,\n",
    "    frac_valid=0.1, frac_test=0.1, pyg_dataset=use_pyg_dataset)\n",
    "\n",
    "\n",
    "train_loader = dataloader_class(train_dataset, batch_size=args.batch_size, shuffle=True, num_workers=args.num_workers)\n",
    "val_loader = dataloader_class(valid_dataset, batch_size=args.batch_size, shuffle=False, num_workers=args.num_workers)\n",
    "test_loader = dataloader_class(test_dataset, batch_size=args.batch_size, shuffle=False, num_workers=args.num_workers)"
   ]
  },
  {
   "cell_type": "markdown",
   "id": "4e191498",
   "metadata": {},
   "source": [
    "## Initialize and Load Model"
   ]
  },
  {
   "cell_type": "code",
   "execution_count": 5,
   "id": "4b2363c6",
   "metadata": {
    "scrolled": false
   },
   "outputs": [
    {
     "name": "stdout",
     "output_type": "stream",
     "text": [
      "using world size: 1 and model-parallel size: 1 \n",
      "using torch.float32 for parameters ...\n",
      "-------------------- arguments --------------------\n",
      "  adam_beta1 ...................... 0.9\n",
      "  adam_beta2 ...................... 0.999\n",
      "  adam_eps ........................ 1e-08\n",
      "  adlr_autoresume ................. False\n",
      "  adlr_autoresume_interval ........ 1000\n",
      "  apply_query_key_layer_scaling ... False\n",
      "  apply_residual_connection_post_layernorm  False\n",
      "  attention_dropout ............... 0.1\n",
      "  attention_softmax_in_fp32 ....... False\n",
      "  batch_size ...................... None\n",
      "  bert_load ....................... None\n",
      "  bias_dropout_fusion ............. False\n",
      "  bias_gelu_fusion ................ False\n",
      "  block_data_path ................. None\n",
      "  checkpoint_activations .......... False\n",
      "  checkpoint_in_cpu ............... False\n",
      "  checkpoint_num_layers ........... 1\n",
      "  clip_grad ....................... 1.0\n",
      "  contigious_checkpointing ........ False\n",
      "  cpu_optimizer ................... False\n",
      "  cpu_torch_adam .................. False\n",
      "  data_impl ....................... infer\n",
      "  data_path ....................... None\n",
      "  dataset_path .................... None\n",
      "  DDP_impl ........................ local\n",
      "  deepscale ....................... False\n",
      "  deepscale_config ................ None\n",
      "  deepspeed ....................... False\n",
      "  deepspeed_activation_checkpointing  False\n",
      "  deepspeed_config ................ None\n",
      "  deepspeed_mpi ................... False\n",
      "  distribute_checkpointed_activations  False\n",
      "  distributed_backend ............. nccl\n",
      "  dynamic_loss_scale .............. True\n",
      "  eod_mask_loss ................... False\n",
      "  eval_interval ................... 1000\n",
      "  eval_iters ...................... 100\n",
      "  exit_interval ................... None\n",
      "  faiss_use_gpu ................... False\n",
      "  finetune ........................ False\n",
      "  fp16 ............................ False\n",
      "  fp16_lm_cross_entropy ........... False\n",
      "  fp32_allreduce .................. False\n",
      "  gas ............................. 1\n",
      "  hidden_dropout .................. 0.1\n",
      "  hidden_size ..................... 256\n",
      "  hysteresis ...................... 2\n",
      "  ict_head_size ................... None\n",
      "  ict_load ........................ None\n",
      "  indexer_batch_size .............. 128\n",
      "  indexer_log_interval ............ 1000\n",
      "  init_method_std ................. 0.02\n",
      "  layernorm_epsilon ............... 1e-05\n",
      "  lazy_mpu_init ................... None\n",
      "  load ............................ ../data/pretrained_MegaMolBART/checkpoints\n",
      "  local_rank ...................... None\n",
      "  log_interval .................... 100\n",
      "  loss_scale ...................... None\n",
      "  loss_scale_window ............... 1000\n",
      "  lr .............................. None\n",
      "  lr_decay_iters .................. None\n",
      "  lr_decay_style .................. linear\n",
      "  make_vocab_size_divisible_by .... 128\n",
      "  mask_prob ....................... 0.15\n",
      "  max_position_embeddings ......... 512\n",
      "  merge_file ...................... None\n",
      "  min_lr .......................... 0.0\n",
      "  min_scale ....................... 1\n",
      "  mmap_warmup ..................... False\n",
      "  model_parallel_size ............. 1\n",
      "  no_load_optim ................... False\n",
      "  no_load_rng ..................... False\n",
      "  no_save_optim ................... False\n",
      "  no_save_rng ..................... False\n",
      "  num_attention_heads ............. 8\n",
      "  num_layers ...................... 4\n",
      "  num_unique_layers ............... None\n",
      "  num_workers ..................... 2\n",
      "  onnx_safe ....................... None\n",
      "  openai_gelu ..................... False\n",
      "  override_lr_scheduler ........... False\n",
      "  param_sharing_style ............. grouped\n",
      "  params_dtype .................... torch.float32\n",
      "  partition_activations ........... False\n",
      "  pipe_parallel_size .............. 0\n",
      "  profile_backward ................ False\n",
      "  query_in_block_prob ............. 0.1\n",
      "  rank ............................ 0\n",
      "  report_topk_accuracies .......... []\n",
      "  reset_attention_mask ............ False\n",
      "  reset_position_ids .............. False\n",
      "  save ............................ None\n",
      "  save_interval ................... None\n",
      "  scaled_masked_softmax_fusion .... False\n",
      "  scaled_upper_triang_masked_softmax_fusion  False\n",
      "  seed ............................ 1234\n",
      "  seq_length ...................... None\n",
      "  short_seq_prob .................. 0.1\n",
      "  split ........................... 969, 30, 1\n",
      "  synchronize_each_layer .......... False\n",
      "  tensorboard_dir ................. None\n",
      "  titles_data_path ................ None\n",
      "  tokenizer_type .................. GPT2BPETokenizer\n",
      "  train_iters ..................... None\n",
      "  use_checkpoint_lr_scheduler ..... False\n",
      "  use_cpu_initialization .......... False\n",
      "  use_one_sent_docs ............... False\n",
      "  vocab_file ...................... ../MoleculeSTM/bart_vocab.txt\n",
      "  warmup .......................... 0.01\n",
      "  weight_decay .................... 0.01\n",
      "  world_size ...................... 1\n",
      "  zero_allgather_bucket_size ...... 0.0\n",
      "  zero_contigious_gradients ....... False\n",
      "  zero_reduce_bucket_size ......... 0.0\n",
      "  zero_reduce_scatter ............. False\n",
      "  zero_stage ...................... 1.0\n",
      "---------------- end of arguments ----------------\n",
      "> initializing torch distributed ...\n",
      "> initializing model parallel with size 1\n",
      "> setting random seeds to 1234 ...\n",
      "> initializing model parallel cuda seeds on global rank 0, model parallel rank 0, and data parallel rank 0 with model parallel seed: 3952 and data parallel seed: 1234\n",
      "Loading vocab from ../MoleculeSTM/bart_vocab.txt.\n",
      "Loading from ../data/pretrained_MegaMolBART/checkpoints\n",
      "global rank 0 is loading checkpoint ../data/pretrained_MegaMolBART/checkpoints/iter_0134000/mp_rank_00/model_optim_rng.pt\n",
      "could not find arguments in the checkpoint ...\n"
     ]
    },
    {
     "name": "stderr",
     "output_type": "stream",
     "text": [
      "[W ProcessGroupNCCL.cpp:1569] Rank 0 using best-guess GPU 0 to perform barrier as devices used by this process are currently unknown. This can potentially cause a hang if this rank to GPU mapping is incorrect.Specify device_ids in barrier() to force use of a particular device.\n"
     ]
    },
    {
     "name": "stdout",
     "output_type": "stream",
     "text": [
      "  successfully loaded ../data/pretrained_MegaMolBART/checkpoints/iter_0134000/mp_rank_00/model_optim_rng.pt\n",
      "Start from pretrained MegaMolBART using MLM.\n",
      "Update MegaMolBART with pretrained MoleculeSTM. Loading from demo_checkpoints_SMILES/molecule_model.pth...\n"
     ]
    }
   ],
   "source": [
    "if args.megamolbart_input_dir is not None:\n",
    "    # This is loading from the pretarined_MegaMolBART\n",
    "    # --megamolbart_input_dir=../../Datasets/pretrained_MegaMolBART/checkpoints\n",
    "    # TODO: or maybe --input_model_path=../../Datasets/pretrained_MegaMolBART/checkpoints/iter_0134000/mp_rank_00/model_optim_rng.pt\n",
    "    MegaMolBART_wrapper = MegaMolBART(vocab_path=args.vocab_path, input_dir=args.megamolbart_input_dir, output_dir=None)\n",
    "    print(\"Start from pretrained MegaMolBART using MLM.\")\n",
    "else:\n",
    "    # This is starting from scratch\n",
    "    MegaMolBART_wrapper = MegaMolBART(input_dir=None, output_dir=None)\n",
    "    print(\"Start from randomly initialized MegaMolBART.\")\n",
    "\n",
    "model = MegaMolBART_wrapper.model\n",
    "print(\"Update MegaMolBART with pretrained MoleculeSTM. Loading from {}...\".format(args.input_model_path))\n",
    "state_dict = torch.load(args.input_model_path, map_location='cpu')\n",
    "model.load_state_dict(state_dict)\n",
    "molecule_dim = 256\n",
    "\n",
    "\n",
    "model = model.to(device)\n",
    "linear_model = nn.Linear(molecule_dim, num_tasks).to(device)\n",
    "\n",
    "# Rewrite the seed by MegaMolBART\n",
    "torch.manual_seed(args.seed)\n",
    "np.random.seed(args.seed)\n",
    "if torch.cuda.is_available():\n",
    "    torch.cuda.manual_seed_all(args.seed)"
   ]
  },
  {
   "cell_type": "markdown",
   "id": "24ae1f5c",
   "metadata": {},
   "source": [
    "## Setup Optimizer"
   ]
  },
  {
   "cell_type": "code",
   "execution_count": 6,
   "id": "05837d7b",
   "metadata": {},
   "outputs": [],
   "source": [
    "if args.training_mode == \"fine_tuning\":\n",
    "    model_param_group = [\n",
    "        {\"params\": model.parameters()},\n",
    "        {\"params\": linear_model.parameters(), 'lr': args.lr * args.lr_scale}\n",
    "    ]\n",
    "else:\n",
    "    model_param_group = [\n",
    "        {\"params\": linear_model.parameters(), 'lr': args.lr * args.lr_scale}\n",
    "    ]\n",
    "optimizer = optim.Adam(model_param_group, lr=args.lr, weight_decay=args.weight_decay)"
   ]
  },
  {
   "cell_type": "markdown",
   "id": "b26e511d",
   "metadata": {},
   "source": [
    "## Define Support Functions"
   ]
  },
  {
   "cell_type": "code",
   "execution_count": 7,
   "id": "6d471e8d",
   "metadata": {},
   "outputs": [],
   "source": [
    "def train_classification(model, device, loader, optimizer):\n",
    "    if args.training_mode == \"fine_tuning\":\n",
    "        model.train()\n",
    "    else:\n",
    "        model.eval()\n",
    "    linear_model.train()\n",
    "    total_loss = 0\n",
    "\n",
    "    if args.verbose:\n",
    "        L = tqdm(loader)\n",
    "    else:\n",
    "        L = loader\n",
    "    for step, batch in enumerate(L):\n",
    "        SMILES_list, y = batch\n",
    "        SMILES_list = list(SMILES_list)\n",
    "        molecule_repr = get_molecule_repr_MoleculeSTM(\n",
    "            SMILES_list, mol2latent=None,\n",
    "            molecule_type=\"SMILES\", MegaMolBART_wrapper=MegaMolBART_wrapper)\n",
    "        pred = linear_model(molecule_repr)\n",
    "        pred = pred.float()\n",
    "        y = y.to(device).float()\n",
    "            \n",
    "        is_valid = y ** 2 > 0\n",
    "        loss_mat = criterion(pred, (y + 1) / 2)\n",
    "        loss_mat = torch.where(\n",
    "            is_valid, loss_mat,\n",
    "            torch.zeros(loss_mat.shape).to(device).to(loss_mat.dtype))\n",
    "\n",
    "        optimizer.zero_grad()\n",
    "        loss = torch.sum(loss_mat) / torch.sum(is_valid)\n",
    "        loss.backward()\n",
    "        optimizer.step()\n",
    "        total_loss += loss.detach().item()\n",
    "\n",
    "    return total_loss / len(loader)\n",
    "\n",
    "\n",
    "@torch.no_grad()\n",
    "def eval_classification(model, device, loader):\n",
    "    model.eval()\n",
    "    linear_model.eval()\n",
    "    y_true, y_scores = [], []\n",
    "\n",
    "    if args.verbose:\n",
    "        L = tqdm(loader)\n",
    "    else:\n",
    "        L = loader\n",
    "    for step, batch in enumerate(L):\n",
    "        SMILES_list, y = batch\n",
    "        SMILES_list = list(SMILES_list)\n",
    "        molecule_repr = get_molecule_repr_MoleculeSTM(\n",
    "            SMILES_list, mol2latent=None,\n",
    "            molecule_type=\"SMILES\", MegaMolBART_wrapper=MegaMolBART_wrapper)\n",
    "        pred = linear_model(molecule_repr)\n",
    "        pred = pred.float()\n",
    "        y = y.to(device).float()\n",
    "        \n",
    "        y_true.append(y)\n",
    "        y_scores.append(pred)\n",
    "\n",
    "    y_true = torch.cat(y_true, dim=0).cpu().numpy()\n",
    "    y_scores = torch.cat(y_scores, dim=0).cpu().numpy()\n",
    "\n",
    "    roc_list = []\n",
    "    for i in range(y_true.shape[1]):\n",
    "        # AUC is only defined when there is at least one positive data.\n",
    "        if np.sum(y_true[:, i] == 1) > 0 and np.sum(y_true[:, i] == -1) > 0:\n",
    "            is_valid = y_true[:, i] ** 2 > 0\n",
    "            roc_list.append(roc_auc_score((y_true[is_valid, i] + 1) / 2, y_scores[is_valid, i]))\n",
    "        else:\n",
    "            print(\"{} is invalid\".format(i))\n",
    "\n",
    "    if len(roc_list) < y_true.shape[1]:\n",
    "        print(len(roc_list))\n",
    "        print(\"Some target is missing!\")\n",
    "        print(\"Missing ratio: %f\" %(1 - float(len(roc_list)) / y_true.shape[1]))\n",
    "\n",
    "    return sum(roc_list) / len(roc_list), 0, y_true, y_scores"
   ]
  },
  {
   "cell_type": "markdown",
   "id": "fa37ee43",
   "metadata": {},
   "source": [
    "## Start Training"
   ]
  },
  {
   "cell_type": "code",
   "execution_count": 8,
   "id": "7408a546",
   "metadata": {},
   "outputs": [
    {
     "name": "stderr",
     "output_type": "stream",
     "text": [
      "100%|██████████████████████████████████████████████████████████████████████████████████████████████████████████| 38/38 [00:01<00:00, 20.98it/s]\n"
     ]
    },
    {
     "name": "stdout",
     "output_type": "stream",
     "text": [
      "Epoch: 1\n",
      "Loss: 0.6168293129456671\n"
     ]
    },
    {
     "name": "stderr",
     "output_type": "stream",
     "text": [
      "100%|████████████████████████████████████████████████████████████████████████████████████████████████████████████| 5/5 [00:00<00:00,  5.69it/s]\n",
      "100%|████████████████████████████████████████████████████████████████████████████████████████████████████████████| 5/5 [00:00<00:00,  6.62it/s]\n"
     ]
    },
    {
     "name": "stdout",
     "output_type": "stream",
     "text": [
      "train: 0.000000\tval: 0.716484\ttest: 0.721788\n",
      "\n"
     ]
    },
    {
     "name": "stderr",
     "output_type": "stream",
     "text": [
      "100%|██████████████████████████████████████████████████████████████████████████████████████████████████████████| 38/38 [00:01<00:00, 25.27it/s]\n"
     ]
    },
    {
     "name": "stdout",
     "output_type": "stream",
     "text": [
      "Epoch: 2\n",
      "Loss: 0.4680136606881493\n"
     ]
    },
    {
     "name": "stderr",
     "output_type": "stream",
     "text": [
      "100%|████████████████████████████████████████████████████████████████████████████████████████████████████████████| 5/5 [00:00<00:00,  5.49it/s]\n",
      "100%|████████████████████████████████████████████████████████████████████████████████████████████████████████████| 5/5 [00:00<00:00,  5.08it/s]\n"
     ]
    },
    {
     "name": "stdout",
     "output_type": "stream",
     "text": [
      "train: 0.000000\tval: 0.759707\ttest: 0.791167\n",
      "\n"
     ]
    },
    {
     "name": "stderr",
     "output_type": "stream",
     "text": [
      "100%|██████████████████████████████████████████████████████████████████████████████████████████████████████████| 38/38 [00:01<00:00, 23.34it/s]\n"
     ]
    },
    {
     "name": "stdout",
     "output_type": "stream",
     "text": [
      "Epoch: 3\n",
      "Loss: 0.4001527561953193\n"
     ]
    },
    {
     "name": "stderr",
     "output_type": "stream",
     "text": [
      "100%|████████████████████████████████████████████████████████████████████████████████████████████████████████████| 5/5 [00:00<00:00,  5.11it/s]\n",
      "100%|████████████████████████████████████████████████████████████████████████████████████████████████████████████| 5/5 [00:00<00:00,  5.06it/s]\n"
     ]
    },
    {
     "name": "stdout",
     "output_type": "stream",
     "text": [
      "train: 0.000000\tval: 0.763736\ttest: 0.785950\n",
      "\n"
     ]
    },
    {
     "name": "stderr",
     "output_type": "stream",
     "text": [
      "100%|██████████████████████████████████████████████████████████████████████████████████████████████████████████| 38/38 [00:01<00:00, 23.44it/s]\n"
     ]
    },
    {
     "name": "stdout",
     "output_type": "stream",
     "text": [
      "Epoch: 4\n",
      "Loss: 0.35615202117907374\n"
     ]
    },
    {
     "name": "stderr",
     "output_type": "stream",
     "text": [
      "100%|████████████████████████████████████████████████████████████████████████████████████████████████████████████| 5/5 [00:00<00:00,  6.30it/s]\n",
      "100%|████████████████████████████████████████████████████████████████████████████████████████████████████████████| 5/5 [00:00<00:00,  5.01it/s]\n"
     ]
    },
    {
     "name": "stdout",
     "output_type": "stream",
     "text": [
      "train: 0.000000\tval: 0.759341\ttest: 0.796035\n",
      "\n"
     ]
    },
    {
     "name": "stderr",
     "output_type": "stream",
     "text": [
      "100%|██████████████████████████████████████████████████████████████████████████████████████████████████████████| 38/38 [00:01<00:00, 23.84it/s]\n"
     ]
    },
    {
     "name": "stdout",
     "output_type": "stream",
     "text": [
      "Epoch: 5\n",
      "Loss: 0.31917470811229004\n"
     ]
    },
    {
     "name": "stderr",
     "output_type": "stream",
     "text": [
      "100%|████████████████████████████████████████████████████████████████████████████████████████████████████████████| 5/5 [00:00<00:00,  5.10it/s]\n",
      "100%|████████████████████████████████████████████████████████████████████████████████████████████████████████████| 5/5 [00:00<00:00,  5.08it/s]"
     ]
    },
    {
     "name": "stdout",
     "output_type": "stream",
     "text": [
      "train: 0.000000\tval: 0.766300\ttest: 0.786646\n",
      "\n",
      "best train: 0.000000\tval: 0.716484\ttest: 0.721788\n"
     ]
    },
    {
     "name": "stderr",
     "output_type": "stream",
     "text": [
      "\n"
     ]
    }
   ],
   "source": [
    "train_func = train_classification\n",
    "eval_func = eval_classification\n",
    "\n",
    "train_roc_list, val_roc_list, test_roc_list = [], [], []\n",
    "train_acc_list, val_acc_list, test_acc_list = [], [], []\n",
    "best_val_roc, best_val_idx = -1, 0\n",
    "criterion = nn.BCEWithLogitsLoss(reduction=\"none\")\n",
    "\n",
    "for epoch in range(1, args.epochs + 1):\n",
    "    loss_acc = train_func(model, device, train_loader, optimizer)\n",
    "    print(\"Epoch: {}\\nLoss: {}\".format(epoch, loss_acc))\n",
    "\n",
    "    if args.eval_train:\n",
    "        train_roc, train_acc, train_target, train_pred = eval_func(model, device, train_loader)\n",
    "    else:\n",
    "        train_roc = train_acc = 0\n",
    "    val_roc, val_acc, val_target, val_pred = eval_func(model, device, val_loader)\n",
    "    test_roc, test_acc, test_target, test_pred = eval_func(model, device, test_loader)\n",
    "\n",
    "    train_roc_list.append(train_roc)\n",
    "    train_acc_list.append(train_acc)\n",
    "    val_roc_list.append(val_roc)\n",
    "    val_acc_list.append(val_acc)\n",
    "    test_roc_list.append(test_roc)\n",
    "    test_acc_list.append(test_acc)\n",
    "    print(\"train: {:.6f}\\tval: {:.6f}\\ttest: {:.6f}\".format(train_roc, val_roc, test_roc))\n",
    "    print()\n",
    "\n",
    "print(\"best train: {:.6f}\\tval: {:.6f}\\ttest: {:.6f}\".format(train_roc_list[best_val_idx], val_roc_list[best_val_idx], test_roc_list[best_val_idx]))"
   ]
  }
 ],
 "metadata": {
  "kernelspec": {
   "display_name": "Python 3 (ipykernel)",
   "language": "python",
   "name": "python3"
  },
  "language_info": {
   "codemirror_mode": {
    "name": "ipython",
    "version": 3
   },
   "file_extension": ".py",
   "mimetype": "text/x-python",
   "name": "python",
   "nbconvert_exporter": "python",
   "pygments_lexer": "ipython3",
   "version": "3.7.13"
  }
 },
 "nbformat": 4,
 "nbformat_minor": 5
}
